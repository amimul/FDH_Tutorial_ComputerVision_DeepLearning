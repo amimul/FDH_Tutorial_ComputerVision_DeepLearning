{
 "cells": [
  {
   "cell_type": "markdown",
   "metadata": {},
   "source": [
    "# MNIST Tutorial : classify numbers using Tensorflow"
   ]
  },
  {
   "cell_type": "markdown",
   "metadata": {},
   "source": [
    "### You can refer to the original tutorial to get detailed explanations on what is going on:\n",
    "https://www.tensorflow.org/get_started/mnist/beginners (if you never heard of MNIST)\n",
    "\n",
    "https://www.tensorflow.org/get_started/mnist/pros (if you are a MNIST expert!)"
   ]
  },
  {
   "cell_type": "markdown",
   "metadata": {},
   "source": [
    "This tutorial is an introduction to tensorflow. At the end of it, given an image of a digit, you will be able to predict which digit it is. You will also understand the principal steps to train a neural network model."
   ]
  },
  {
   "cell_type": "markdown",
   "metadata": {},
   "source": [
    "To install tensorflow in your machine, follow the steps : https://www.tensorflow.org/install/"
   ]
  },
  {
   "cell_type": "code",
   "execution_count": 17,
   "metadata": {
    "collapsed": true
   },
   "outputs": [],
   "source": [
    "import tensorflow as tf\n",
    "import numpy as np  # library to process arrays"
   ]
  },
  {
   "cell_type": "markdown",
   "metadata": {},
   "source": [
    "### Import data\n",
    "MNIST is a simple computer vision dataset. It consists of images of handwritten digits.\n",
    "It will be downloaded in your current directory (or loaded from the specified directory if you already downloaded it)"
   ]
  },
  {
   "cell_type": "code",
   "execution_count": 12,
   "metadata": {
    "collapsed": false
   },
   "outputs": [
    {
     "name": "stdout",
     "output_type": "stream",
     "text": [
      "Extracting MNIST_data/train-images-idx3-ubyte.gz\n",
      "Extracting MNIST_data/train-labels-idx1-ubyte.gz\n",
      "Extracting MNIST_data/t10k-images-idx3-ubyte.gz\n",
      "Extracting MNIST_data/t10k-labels-idx1-ubyte.gz\n"
     ]
    }
   ],
   "source": [
    "from tensorflow.examples.tutorials.mnist import input_data\n",
    "mnist = input_data.read_data_sets('MNIST_data/', one_hot=True)"
   ]
  },
  {
   "cell_type": "markdown",
   "metadata": {},
   "source": [
    "### MNIST Dataset structure\n",
    "* training set (55 000) : `mnist.train`\n",
    "* testing set (10 000) : `mnist.testing`\n",
    "* validation set (1 000) : `mnist.validation`\n",
    "\n",
    "Each set contains `images` and `labels`. ( i.e `mnist.train.images`)\n",
    "\n",
    "Labels are `one-hot` vectors. A one-hot vector is a vector which is 0 in most dimensions, and 1 in a single dimension. In our case, the nth digit will be represented as a vector which is 1 in the nth dimension.\n",
    "\n",
    "The images have dimensions `28x28`, and will be processed as flatten vectors of dimension 784 (28x28)."
   ]
  },
  {
   "cell_type": "markdown",
   "metadata": {},
   "source": [
    "#### Example of one digit image"
   ]
  },
  {
   "cell_type": "code",
   "execution_count": 27,
   "metadata": {
    "collapsed": false
   },
   "outputs": [
    {
     "data": {
      "text/plain": [
       "<matplotlib.text.Text at 0x7f04ad29aa20>"
      ]
     },
     "execution_count": 27,
     "metadata": {},
     "output_type": "execute_result"
    },
    {
     "data": {
      "image/png": "[encoded data removed]",
      "text/plain": [
       "<matplotlib.figure.Figure at 0x7f04ad2f72b0>"
      ]
     },
     "metadata": {},
     "output_type": "display_data"
    }
   ],
   "source": [
    "# Import the library to show the image\n",
    "import matplotlib.pyplot as plt\n",
    "%matplotlib inline\n",
    "\n",
    "# Rehape 784 vector to 28x28 image and show in grayscale\n",
    "index = 98\n",
    "plt.imshow(np.reshape(mnist.train.images[index], [28,28]), cmap='gray')\n",
    "plt.title('label = {}'.format(np.argmax(mnist.train.labels[index])))"
   ]
  },
  {
   "cell_type": "code",
   "execution_count": null,
   "metadata": {
    "collapsed": false
   },
   "outputs": [],
   "source": []
  },
  {
   "cell_type": "code",
   "execution_count": null,
   "metadata": {
    "collapsed": true
   },
   "outputs": [],
   "source": []
  }
 ],
 "metadata": {
  "anaconda-cloud": {},
  "kernelspec": {
   "display_name": "Python [default]",
   "language": "python",
   "name": "python3"
  },
  "language_info": {
   "codemirror_mode": {
    "name": "ipython",
    "version": 3
   },
   "file_extension": ".py",
   "mimetype": "text/x-python",
   "name": "python",
   "nbconvert_exporter": "python",
   "pygments_lexer": "ipython3",
   "version": "3.5.2"
  }
 },
 "nbformat": 4,
 "nbformat_minor": 1
}
